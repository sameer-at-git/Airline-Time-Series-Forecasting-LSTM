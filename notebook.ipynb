{
 "cells": [
  {
   "cell_type": "markdown",
   "metadata": {},
   "source": [
    "## What is Time Series Forecasting?\n",
    "Time series forecasting is a technique for predicting events through a time sequence. The technique is used in many fields of study, from geology to behaviour to economics. Techniques predict future events by analyzing trends from the past, assuming that future trends will hold similar to historical trends."
   ]
  },
  {
   "cell_type": "markdown",
   "metadata": {},
   "source": [
    "## What is LSTM?\n",
    "LSTM stands for Short Term Long Term Memory. It is a model or an architecture that extends the memory of recurrent neural networks. Typically, recurrent neural networks have “short-term memory” in that they use persistent past information for use in the current neural network. Essentially, the previous information is used in the current task. This means that we do not have a list of all of the previous information available for the neural node."
   ]
  },
  {
   "cell_type": "markdown",
   "metadata": {},
   "source": [
    "## Forecast Time Series with LSTM\n",
    "I hope you have understood what time series forecasting means and what are LSTM models. Now I will be heading towards creating a machine learning model to forecast time series with LSTM in Machine Learning."
   ]
  },
  {
   "cell_type": "markdown",
   "metadata": {},
   "source": [
    "## Cell-1 : Import Libraries\n",
    "Imports all necessary libraries for data processing, model building (Keras LSTM), and evaluation (sklearn). Sets a random seed for reproducibility."
   ]
  },
  {
   "cell_type": "code",
   "execution_count": 1,
   "metadata": {},
   "outputs": [],
   "source": [
    "import numpy\n",
    "import matplotlib.pyplot as plt\n",
    "import pandas\n",
    "import math\n",
    "from keras.models import Sequential\n",
    "from keras.layers import Dense\n",
    "from keras.layers import LSTM\n",
    "from sklearn.preprocessing import MinMaxScaler\n",
    "from sklearn.metrics import mean_squared_error\n",
    "numpy.random.seed(7)"
   ]
  },
  {
   "cell_type": "markdown",
   "metadata": {},
   "source": [
    "## Cell-2: Load & Normalize Data\n",
    "Loads the 'airline-passengers.csv' dataset (column 1), converts data to float, and uses MinMaxScaler to normalize the data values between 0 and 1."
   ]
  },
  {
   "cell_type": "code",
   "execution_count": 2,
   "metadata": {},
   "outputs": [],
   "source": [
    "dataframe = pandas.read_csv('airline-passengers.csv', usecols=[1], engine='python')\n",
    "dataset = dataframe.values\n",
    "dataset = dataset.astype('float32')\n",
    "scaler = MinMaxScaler(feature_range=(0, 1))\n",
    "dataset = scaler.fit_transform(dataset)"
   ]
  },
  {
   "cell_type": "markdown",
   "metadata": {},
   "source": [
    "## Cell-3: Split Data\n",
    "Splits the normalized dataset into training (67%) and testing (33%) sets."
   ]
  },
  {
   "cell_type": "code",
   "execution_count": 3,
   "metadata": {},
   "outputs": [
    {
     "name": "stdout",
     "output_type": "stream",
     "text": [
      "96 48\n"
     ]
    }
   ],
   "source": [
    "train_size = int(len(dataset) * 0.67)\n",
    "test_size = len(dataset) - train_size\n",
    "train, test = dataset[0:train_size,:], dataset[train_size:len(dataset),:]\n",
    "print(len(train), len(test))"
   ]
  },
  {
   "cell_type": "markdown",
   "metadata": {},
   "source": [
    "## Cell-4: Define create_dataset Function\n",
    "A function to transform the time series into a supervised learning format, where previous data points (look_back) are the input (X) to predict the next point (Y)."
   ]
  },
  {
   "cell_type": "code",
   "execution_count": 4,
   "metadata": {},
   "outputs": [],
   "source": [
    "def create_dataset(dataset, look_back=1):\n",
    "\tdataX, dataY = [], []\n",
    "\tfor i in range(len(dataset)-look_back-1):\n",
    "\t\ta = dataset[i:(i+look_back), 0]\n",
    "\t\tdataX.append(a)\n",
    "\t\tdataY.append(dataset[i + look_back, 0])\n",
    "\treturn numpy.array(dataX), numpy.array(dataY)"
   ]
  },
  {
   "cell_type": "markdown",
   "metadata": {},
   "source": [
    "## Cell-5: Prepare Data for LSTM\n",
    "Calls create_dataset with a look_back of 1 and reshapes the input arrays to the 3D format required by LSTM: [samples, time steps, features]."
   ]
  },
  {
   "cell_type": "code",
   "execution_count": 5,
   "metadata": {},
   "outputs": [],
   "source": [
    "look_back = 1\n",
    "trainX, trainY = create_dataset(train, look_back)\n",
    "testX, testY = create_dataset(test, look_back)\n",
    "trainX = numpy.reshape(trainX, (trainX.shape[0], 1, trainX.shape[1]))\n",
    "testX = numpy.reshape(testX, (testX.shape[0], 1, testX.shape[1]))"
   ]
  },
  {
   "cell_type": "markdown",
   "metadata": {},
   "source": [
    "## Cell-6: Build & Train LSTM Model\n",
    "Creates a Sequential model, adds one LSTM layer (4 units) and one Dense output layer. Compiles the model with Mean Squared Error loss and trains it for 100 epochs."
   ]
  },
  {
   "cell_type": "code",
   "execution_count": 6,
   "metadata": {},
   "outputs": [
    {
     "name": "stderr",
     "output_type": "stream",
     "text": [
      "d:\\Project\\Airplane-Time-Series-LSTM\\.conda\\Lib\\site-packages\\keras\\src\\layers\\rnn\\rnn.py:199: UserWarning: Do not pass an `input_shape`/`input_dim` argument to a layer. When using Sequential models, prefer using an `Input(shape)` object as the first layer in the model instead.\n",
      "  super().__init__(**kwargs)\n"
     ]
    },
    {
     "name": "stdout",
     "output_type": "stream",
     "text": [
      "Epoch 1/100\n",
      "94/94 - 3s - 31ms/step - loss: 0.0352\n",
      "Epoch 2/100\n",
      "94/94 - 0s - 3ms/step - loss: 0.0159\n",
      "Epoch 3/100\n",
      "94/94 - 0s - 3ms/step - loss: 0.0134\n",
      "Epoch 4/100\n",
      "94/94 - 0s - 3ms/step - loss: 0.0123\n",
      "Epoch 5/100\n",
      "94/94 - 0s - 3ms/step - loss: 0.0110\n",
      "Epoch 6/100\n",
      "94/94 - 0s - 3ms/step - loss: 0.0099\n",
      "Epoch 7/100\n",
      "94/94 - 0s - 3ms/step - loss: 0.0088\n",
      "Epoch 8/100\n",
      "94/94 - 0s - 3ms/step - loss: 0.0077\n",
      "Epoch 9/100\n",
      "94/94 - 0s - 3ms/step - loss: 0.0072\n",
      "Epoch 10/100\n",
      "94/94 - 0s - 3ms/step - loss: 0.0061\n",
      "Epoch 11/100\n",
      "94/94 - 0s - 3ms/step - loss: 0.0053\n",
      "Epoch 12/100\n",
      "94/94 - 0s - 3ms/step - loss: 0.0047\n",
      "Epoch 13/100\n",
      "94/94 - 0s - 3ms/step - loss: 0.0041\n",
      "Epoch 14/100\n",
      "94/94 - 0s - 3ms/step - loss: 0.0036\n",
      "Epoch 15/100\n",
      "94/94 - 0s - 3ms/step - loss: 0.0031\n",
      "Epoch 16/100\n",
      "94/94 - 0s - 3ms/step - loss: 0.0029\n",
      "Epoch 17/100\n",
      "94/94 - 0s - 3ms/step - loss: 0.0026\n",
      "Epoch 18/100\n",
      "94/94 - 0s - 3ms/step - loss: 0.0024\n",
      "Epoch 19/100\n",
      "94/94 - 0s - 3ms/step - loss: 0.0023\n",
      "Epoch 20/100\n",
      "94/94 - 0s - 3ms/step - loss: 0.0022\n",
      "Epoch 21/100\n",
      "94/94 - 0s - 3ms/step - loss: 0.0021\n",
      "Epoch 22/100\n",
      "94/94 - 0s - 3ms/step - loss: 0.0021\n",
      "Epoch 23/100\n",
      "94/94 - 0s - 3ms/step - loss: 0.0020\n",
      "Epoch 24/100\n",
      "94/94 - 0s - 3ms/step - loss: 0.0021\n",
      "Epoch 25/100\n",
      "94/94 - 0s - 3ms/step - loss: 0.0022\n",
      "Epoch 26/100\n",
      "94/94 - 0s - 3ms/step - loss: 0.0020\n",
      "Epoch 27/100\n",
      "94/94 - 0s - 3ms/step - loss: 0.0020\n",
      "Epoch 28/100\n",
      "94/94 - 0s - 3ms/step - loss: 0.0021\n",
      "Epoch 29/100\n",
      "94/94 - 0s - 3ms/step - loss: 0.0020\n",
      "Epoch 30/100\n",
      "94/94 - 0s - 3ms/step - loss: 0.0020\n",
      "Epoch 31/100\n",
      "94/94 - 0s - 3ms/step - loss: 0.0021\n",
      "Epoch 32/100\n",
      "94/94 - 0s - 3ms/step - loss: 0.0021\n",
      "Epoch 33/100\n",
      "94/94 - 0s - 3ms/step - loss: 0.0021\n",
      "Epoch 34/100\n",
      "94/94 - 0s - 3ms/step - loss: 0.0020\n",
      "Epoch 35/100\n",
      "94/94 - 0s - 3ms/step - loss: 0.0021\n",
      "Epoch 36/100\n",
      "94/94 - 0s - 3ms/step - loss: 0.0020\n",
      "Epoch 37/100\n",
      "94/94 - 0s - 3ms/step - loss: 0.0020\n",
      "Epoch 38/100\n",
      "94/94 - 0s - 3ms/step - loss: 0.0020\n",
      "Epoch 39/100\n",
      "94/94 - 0s - 3ms/step - loss: 0.0020\n",
      "Epoch 40/100\n",
      "94/94 - 0s - 3ms/step - loss: 0.0020\n",
      "Epoch 41/100\n",
      "94/94 - 0s - 3ms/step - loss: 0.0020\n",
      "Epoch 42/100\n",
      "94/94 - 0s - 3ms/step - loss: 0.0020\n",
      "Epoch 43/100\n",
      "94/94 - 0s - 3ms/step - loss: 0.0019\n",
      "Epoch 44/100\n",
      "94/94 - 0s - 3ms/step - loss: 0.0021\n",
      "Epoch 45/100\n",
      "94/94 - 0s - 3ms/step - loss: 0.0020\n",
      "Epoch 46/100\n",
      "94/94 - 0s - 3ms/step - loss: 0.0021\n",
      "Epoch 47/100\n",
      "94/94 - 0s - 3ms/step - loss: 0.0021\n",
      "Epoch 48/100\n",
      "94/94 - 0s - 3ms/step - loss: 0.0020\n",
      "Epoch 49/100\n",
      "94/94 - 0s - 3ms/step - loss: 0.0020\n",
      "Epoch 50/100\n",
      "94/94 - 0s - 3ms/step - loss: 0.0020\n",
      "Epoch 51/100\n",
      "94/94 - 0s - 3ms/step - loss: 0.0020\n",
      "Epoch 52/100\n",
      "94/94 - 0s - 3ms/step - loss: 0.0020\n",
      "Epoch 53/100\n",
      "94/94 - 0s - 3ms/step - loss: 0.0020\n",
      "Epoch 54/100\n",
      "94/94 - 0s - 3ms/step - loss: 0.0020\n",
      "Epoch 55/100\n",
      "94/94 - 0s - 3ms/step - loss: 0.0020\n",
      "Epoch 56/100\n",
      "94/94 - 0s - 3ms/step - loss: 0.0021\n",
      "Epoch 57/100\n",
      "94/94 - 0s - 3ms/step - loss: 0.0020\n",
      "Epoch 58/100\n",
      "94/94 - 0s - 3ms/step - loss: 0.0021\n",
      "Epoch 59/100\n",
      "94/94 - 0s - 3ms/step - loss: 0.0020\n",
      "Epoch 60/100\n",
      "94/94 - 0s - 3ms/step - loss: 0.0020\n",
      "Epoch 61/100\n",
      "94/94 - 0s - 3ms/step - loss: 0.0020\n",
      "Epoch 62/100\n",
      "94/94 - 0s - 3ms/step - loss: 0.0020\n",
      "Epoch 63/100\n",
      "94/94 - 0s - 3ms/step - loss: 0.0020\n",
      "Epoch 64/100\n",
      "94/94 - 0s - 3ms/step - loss: 0.0020\n",
      "Epoch 65/100\n",
      "94/94 - 0s - 3ms/step - loss: 0.0020\n",
      "Epoch 66/100\n",
      "94/94 - 0s - 3ms/step - loss: 0.0021\n",
      "Epoch 67/100\n",
      "94/94 - 0s - 3ms/step - loss: 0.0021\n",
      "Epoch 68/100\n",
      "94/94 - 0s - 3ms/step - loss: 0.0020\n",
      "Epoch 69/100\n",
      "94/94 - 0s - 3ms/step - loss: 0.0020\n",
      "Epoch 70/100\n",
      "94/94 - 0s - 3ms/step - loss: 0.0021\n",
      "Epoch 71/100\n",
      "94/94 - 0s - 3ms/step - loss: 0.0021\n",
      "Epoch 72/100\n",
      "94/94 - 0s - 3ms/step - loss: 0.0020\n",
      "Epoch 73/100\n",
      "94/94 - 0s - 3ms/step - loss: 0.0021\n",
      "Epoch 74/100\n",
      "94/94 - 0s - 3ms/step - loss: 0.0021\n",
      "Epoch 75/100\n",
      "94/94 - 0s - 3ms/step - loss: 0.0020\n",
      "Epoch 76/100\n",
      "94/94 - 0s - 3ms/step - loss: 0.0020\n",
      "Epoch 77/100\n",
      "94/94 - 0s - 3ms/step - loss: 0.0020\n",
      "Epoch 78/100\n",
      "94/94 - 0s - 3ms/step - loss: 0.0020\n",
      "Epoch 79/100\n",
      "94/94 - 0s - 3ms/step - loss: 0.0021\n",
      "Epoch 80/100\n",
      "94/94 - 0s - 3ms/step - loss: 0.0020\n",
      "Epoch 81/100\n",
      "94/94 - 0s - 3ms/step - loss: 0.0020\n",
      "Epoch 82/100\n",
      "94/94 - 0s - 3ms/step - loss: 0.0020\n",
      "Epoch 83/100\n",
      "94/94 - 0s - 3ms/step - loss: 0.0020\n",
      "Epoch 84/100\n",
      "94/94 - 0s - 3ms/step - loss: 0.0021\n",
      "Epoch 85/100\n",
      "94/94 - 0s - 3ms/step - loss: 0.0020\n",
      "Epoch 86/100\n",
      "94/94 - 0s - 3ms/step - loss: 0.0020\n",
      "Epoch 87/100\n",
      "94/94 - 0s - 3ms/step - loss: 0.0020\n",
      "Epoch 88/100\n",
      "94/94 - 0s - 3ms/step - loss: 0.0020\n",
      "Epoch 89/100\n",
      "94/94 - 0s - 3ms/step - loss: 0.0020\n",
      "Epoch 90/100\n",
      "94/94 - 0s - 3ms/step - loss: 0.0021\n",
      "Epoch 91/100\n",
      "94/94 - 0s - 3ms/step - loss: 0.0020\n",
      "Epoch 92/100\n",
      "94/94 - 0s - 3ms/step - loss: 0.0020\n",
      "Epoch 93/100\n",
      "94/94 - 0s - 3ms/step - loss: 0.0020\n",
      "Epoch 94/100\n",
      "94/94 - 0s - 3ms/step - loss: 0.0020\n",
      "Epoch 95/100\n",
      "94/94 - 0s - 3ms/step - loss: 0.0020\n",
      "Epoch 96/100\n",
      "94/94 - 0s - 3ms/step - loss: 0.0020\n",
      "Epoch 97/100\n",
      "94/94 - 0s - 3ms/step - loss: 0.0020\n",
      "Epoch 98/100\n",
      "94/94 - 0s - 3ms/step - loss: 0.0020\n",
      "Epoch 99/100\n",
      "94/94 - 0s - 3ms/step - loss: 0.0020\n",
      "Epoch 100/100\n",
      "94/94 - 0s - 3ms/step - loss: 0.0020\n"
     ]
    },
    {
     "data": {
      "text/plain": [
       "<keras.src.callbacks.history.History at 0x4418f390>"
      ]
     },
     "execution_count": 6,
     "metadata": {},
     "output_type": "execute_result"
    }
   ],
   "source": [
    "model = Sequential()\n",
    "model.add(LSTM(4, input_shape=(1, look_back)))\n",
    "model.add(Dense(1))\n",
    "model.compile(loss='mean_squared_error', optimizer='adam')\n",
    "model.fit(trainX, trainY, epochs=100, batch_size=1, verbose=2)"
   ]
  },
  {
   "cell_type": "markdown",
   "metadata": {},
   "source": [
    "## Cell-7: Evaluate\n",
    "Generates predictions, then uses scaler.inverse_transform to return the data to its original scale (actual passenger numbers). Calculates the Root Mean Squared Error (RMSE) for training and testing."
   ]
  },
  {
   "cell_type": "code",
   "execution_count": 7,
   "metadata": {},
   "outputs": [
    {
     "name": "stdout",
     "output_type": "stream",
     "text": [
      "\u001b[1m3/3\u001b[0m \u001b[32m━━━━━━━━━━━━━━━━━━━━\u001b[0m\u001b[37m\u001b[0m \u001b[1m1s\u001b[0m 158ms/step\n",
      "\u001b[1m2/2\u001b[0m \u001b[32m━━━━━━━━━━━━━━━━━━━━\u001b[0m\u001b[37m\u001b[0m \u001b[1m0s\u001b[0m 33ms/step\n"
     ]
    }
   ],
   "source": [
    "# make predictions\n",
    "trainPredict = model.predict(trainX)\n",
    "testPredict = model.predict(testX)\n",
    "# invert predictions\n",
    "trainPredict = scaler.inverse_transform(trainPredict)\n",
    "trainY = scaler.inverse_transform([trainY])\n",
    "testPredict = scaler.inverse_transform(testPredict)\n",
    "testY = scaler.inverse_transform([testY])\n",
    "# calculate root mean squared error\n",
    "trainScore = math.sqrt(mean_squared_error(trainY[0], trainPredict[:,0]))\n",
    "testScore = math.sqrt(mean_squared_error(testY[0], testPredict[:,0]))"
   ]
  },
  {
   "cell_type": "markdown",
   "metadata": {},
   "source": [
    "## Cell-8: Plot\n",
    "Creates an empty plot array and populates it with the training and testing predictions, aligning them with the original time series data to visualize the model's performance."
   ]
  },
  {
   "cell_type": "code",
   "execution_count": 8,
   "metadata": {},
   "outputs": [
    {
     "data": {
      "image/png": "[encoded data removed]",
      "text/plain": [
       "<Figure size 640x480 with 1 Axes>"
      ]
     },
     "metadata": {},
     "output_type": "display_data"
    }
   ],
   "source": [
    "# shift train predictions for plotting\n",
    "trainPredictPlot = numpy.empty_like(dataset)\n",
    "trainPredictPlot[:, :] = numpy.nan\n",
    "trainPredictPlot[look_back:len(trainPredict)+look_back, :] = trainPredict\n",
    "# shift test predictions for plotting\n",
    "testPredictPlot = numpy.empty_like(dataset)\n",
    "testPredictPlot[:, :] = numpy.nan\n",
    "testPredictPlot[len(trainPredict)+(look_back*2)+1:len(dataset)-1, :] = testPredict\n",
    "# plot baseline and predictions\n",
    "plt.plot(scaler.inverse_transform(dataset))\n",
    "plt.plot(trainPredictPlot)\n",
    "plt.plot(testPredictPlot)\n",
    "plt.show()"
   ]
  }
 ],
 "metadata": {
  "kernelspec": {
   "display_name": "Python 3",
   "language": "python",
   "name": "python3"
  },
  "language_info": {
   "codemirror_mode": {
    "name": "ipython",
    "version": 3
   },
   "file_extension": ".py",
   "mimetype": "text/x-python",
   "name": "python",
   "nbconvert_exporter": "python",
   "pygments_lexer": "ipython3",
   "version": "3.11.13"
  }
 },
 "nbformat": 4,
 "nbformat_minor": 2
}
